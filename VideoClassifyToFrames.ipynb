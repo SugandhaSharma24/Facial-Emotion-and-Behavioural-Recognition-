{
 "cells": [
  {
   "cell_type": "code",
   "execution_count": 1,
   "id": "bd614448",
   "metadata": {},
   "outputs": [],
   "source": [
    "import os\n",
    "import cv2\n",
    "from sklearn.model_selection import train_test_split"
   ]
  },
  {
   "cell_type": "code",
   "execution_count": 2,
   "id": "6aeca5b0",
   "metadata": {},
   "outputs": [],
   "source": [
    "\n",
    "def read_videos_from_directory(directory):\n",
    "    video_files = [f for f in os.listdir(directory) if f.endswith('.mp4') or f.endswith('.avi')]\n",
    "    videos = []\n",
    "    for video_file in video_files:\n",
    "        video_path = os.path.join(directory, video_file)\n",
    "        videos.append(video_path)\n",
    "    return videos\n"
   ]
  },
  {
   "cell_type": "code",
   "execution_count": 3,
   "id": "05b7da10",
   "metadata": {},
   "outputs": [],
   "source": [
    "def extract_frames(video_path, output_directory):\n",
    "    # Open the video file\n",
    "    cap = cv2.VideoCapture(video_path)\n",
    "\n",
    "    # Create the output directory if it doesn't exist\n",
    "    if not os.path.exists(output_directory):\n",
    "        os.makedirs(output_directory)\n",
    "\n",
    "    # Read and save each frame\n",
    "    frame_count = 0\n",
    "    while True:\n",
    "        ret, frame = cap.read()\n",
    "\n",
    "        if not ret:\n",
    "            break\n",
    "\n",
    "        # Save the frame as an image file\n",
    "        frame_filename = os.path.join(output_directory, f\"frame_{frame_count:04d}.jpg\")\n",
    "        cv2.imwrite(frame_filename, frame)\n",
    "\n",
    "        frame_count += 1\n",
    "\n",
    "    # Release the video capture object\n",
    "    cap.release()"
   ]
  },
  {
   "cell_type": "code",
   "execution_count": 4,
   "id": "a60dd6a1",
   "metadata": {},
   "outputs": [
    {
     "name": "stdout",
     "output_type": "stream",
     "text": [
      "Frames extracted for walking1.mp4 to OutputFrames/train/walking1\n",
      "Frames extracted for walking.mp4 to OutputFrames/train/walking\n",
      "Frames extracted for Harassing1.mp4 to OutputFrames/train/Harassing1\n",
      "Frames extracted for Fighting.mp4 to OutputFrames/train/Fighting\n",
      "Frames extracted for walking2.mp4 to OutputFrames/train/walking2\n",
      "Frames extracted for Helping.mp4 to OutputFrames/train/Helping\n",
      "Frames extracted for Fighting1.mp4 to OutputFrames/train/Fighting1\n",
      "Frames extracted for Harass3.mp4 to OutputFrames/train/Harass3\n",
      "Frames extracted for Sitting.mp4 to OutputFrames/train/Sitting\n",
      "Frames extracted for Sitting1.mp4 to OutputFrames/train/Sitting1\n",
      "Frames extracted for Harassing.mp4 to OutputFrames/test/Harassing\n",
      "Frames extracted for Harass2.mp4 to OutputFrames/test/Harass2\n",
      "Frames extracted for Running.mp4 to OutputFrames/test/Running\n"
     ]
    }
   ],
   "source": [
    "def split_and_extract(video_folder, output_folder, test_size=0.2):\n",
    "    # Get all video files in the specified folder\n",
    "    video_files = [f for f in os.listdir(video_folder) if f.endswith('.mp4') or f.endswith('.avi')]\n",
    "\n",
    "    # Split videos into train and test sets\n",
    "    train_videos, test_videos = train_test_split(video_files, test_size=test_size, random_state=42)\n",
    "\n",
    "    # Process train videos\n",
    "    for video_file in train_videos:\n",
    "        video_path = os.path.join(video_folder, video_file)\n",
    "        output_directory = os.path.join(output_folder, 'train', os.path.splitext(video_file)[0])\n",
    "        extract_frames(video_path, output_directory)\n",
    "        print(f\"Frames extracted for {video_file} to {output_directory}\")\n",
    "\n",
    "    # Process test videos\n",
    "    for video_file in test_videos:\n",
    "        video_path = os.path.join(video_folder, video_file)\n",
    "        output_directory = os.path.join(output_folder, 'test', os.path.splitext(video_file)[0])\n",
    "        extract_frames(video_path, output_directory)\n",
    "        print(f\"Frames extracted for {video_file} to {output_directory}\")\n",
    "\n",
    "if __name__ == \"__main__\":\n",
    "    # Replace 'input_videos_folder' and 'output_frames_folder' with your folder paths\n",
    "    input_videos_folder = 'Output/'\n",
    "    output_frames_folder = 'OutputFrames'\n",
    "\n",
    "    # Create 'train' and 'test' subdirectories\n",
    "    train_output_folder = os.path.join(output_frames_folder, 'train')\n",
    "    test_output_folder = os.path.join(output_frames_folder, 'test')\n",
    "\n",
    "    if not os.path.exists(train_output_folder):\n",
    "        os.makedirs(train_output_folder)\n",
    "\n",
    "    if not os.path.exists(test_output_folder):\n",
    "        os.makedirs(test_output_folder)\n",
    "\n",
    "    split_and_extract(input_videos_folder, output_frames_folder)"
   ]
  },
  {
   "cell_type": "code",
   "execution_count": 5,
   "id": "75dabe1b",
   "metadata": {},
   "outputs": [
    {
     "name": "stdout",
     "output_type": "stream",
     "text": [
      "Requirement already satisfied: keras in /Users/suggu/anaconda3/lib/python3.10/site-packages (2.13.1)\r\n"
     ]
    }
   ],
   "source": [
    "!pip install keras"
   ]
  },
  {
   "cell_type": "code",
   "execution_count": 6,
   "id": "c8aa52b2",
   "metadata": {},
   "outputs": [
    {
     "name": "stdout",
     "output_type": "stream",
     "text": [
      "Requirement already satisfied: Keras-Preprocessing in /Users/suggu/anaconda3/lib/python3.10/site-packages (1.1.2)\r\n",
      "Requirement already satisfied: six>=1.9.0 in /Users/suggu/anaconda3/lib/python3.10/site-packages (from Keras-Preprocessing) (1.16.0)\r\n",
      "Requirement already satisfied: numpy>=1.9.1 in /Users/suggu/anaconda3/lib/python3.10/site-packages (from Keras-Preprocessing) (1.23.5)\r\n"
     ]
    }
   ],
   "source": [
    "!pip install Keras-Preprocessing"
   ]
  },
  {
   "cell_type": "code",
   "execution_count": 7,
   "id": "51122919",
   "metadata": {},
   "outputs": [],
   "source": [
    "from keras.utils import to_categorical\n",
    "from keras_preprocessing.image import load_img\n",
    "from keras.models import Sequential\n",
    "from keras.layers import Dense, Conv2D, Dropout, Flatten, MaxPooling2D\n",
    "import os\n",
    "import pandas as pd\n",
    "import numpy as np"
   ]
  },
  {
   "cell_type": "code",
   "execution_count": 8,
   "id": "304bbae6",
   "metadata": {},
   "outputs": [],
   "source": [
    "TRAIN_DIR = 'OutputFrames/train'\n",
    "TEST_DIR = 'OutputFrames/test'"
   ]
  },
  {
   "cell_type": "code",
   "execution_count": 9,
   "id": "e3512576",
   "metadata": {},
   "outputs": [],
   "source": [
    "import os\n",
    "import pandas as pd\n",
    "import numpy as np\n",
    "from tensorflow.keras.preprocessing import image\n",
    "from tensorflow.keras.applications.resnet50 import ResNet50, preprocess_input"
   ]
  },
  {
   "cell_type": "code",
   "execution_count": 10,
   "id": "fb58fd2a",
   "metadata": {},
   "outputs": [],
   "source": [
    "# Function to extract features from a directory of images\n",
    "def extract_features_from_directory(directory, model):\n",
    "    features_list = []\n",
    "    labels = []\n",
    "\n",
    "    for class_label in os.listdir(directory):\n",
    "        class_path = os.path.join(directory, class_label)\n",
    "\n",
    "        for filename in os.listdir(class_path):\n",
    "            img_path = os.path.join(class_path, filename)\n",
    "            features = extract_features(img_path, model)\n",
    "            features_list.append(features)\n",
    "            labels.append(class_label)\n",
    "\n",
    "    return features_list, labels"
   ]
  },
  {
   "cell_type": "code",
   "execution_count": 11,
   "id": "a929e0ae",
   "metadata": {},
   "outputs": [],
   "source": [
    "# Function to extract features from an image\n",
    "def extract_features(image_path, model):\n",
    "    img = image.load_img(image_path, target_size=(224, 224))  # Resize image to fit model input size\n",
    "    img_array = image.img_to_array(img)\n",
    "    img_array = np.expand_dims(img_array, axis=0)\n",
    "    img_array = preprocess_input(img_array)  # Preprocess input according to ResNet50 requirements\n",
    "    features = model.predict(img_array)\n",
    "    return features.flatten()  # Flatten the features to create a 1D array"
   ]
  },
  {
   "cell_type": "code",
   "execution_count": 12,
   "id": "ea3c952b",
   "metadata": {},
   "outputs": [],
   "source": [
    "def load_images(file_paths):\n",
    "    return [cv2.imread(file_path) for file_path in file_paths]"
   ]
  },
  {
   "cell_type": "code",
   "execution_count": 13,
   "id": "8b684a81",
   "metadata": {},
   "outputs": [],
   "source": [
    "def createdataframe(dir):\n",
    "    image_paths = []\n",
    "    labels = []\n",
    "    for label in os.listdir(dir):\n",
    "        for imagename in os.listdir(os.path.join(dir,label)):\n",
    "            image_paths.append(os.path.join(dir,label,imagename))\n",
    "            labels.append(label)\n",
    "        print(label, \"completed\")\n",
    "    return image_paths,labels"
   ]
  },
  {
   "cell_type": "code",
   "execution_count": 14,
   "id": "dd59ff76",
   "metadata": {},
   "outputs": [
    {
     "name": "stdout",
     "output_type": "stream",
     "text": [
      "Harassing1 completed\n",
      "Helping completed\n",
      "walking2 completed\n",
      "Harass3 completed\n",
      "walking completed\n",
      "Fighting completed\n",
      "walking1 completed\n",
      "Sitting completed\n",
      "Fighting1 completed\n",
      "Sitting1 completed\n"
     ]
    }
   ],
   "source": [
    "train = pd.DataFrame()\n",
    "train['image'], train['label'] = createdataframe(TRAIN_DIR)"
   ]
  },
  {
   "cell_type": "code",
   "execution_count": 15,
   "id": "25645c1c",
   "metadata": {},
   "outputs": [
    {
     "name": "stdout",
     "output_type": "stream",
     "text": [
      "Running completed\n",
      "Harass2 completed\n",
      "Harassing completed\n"
     ]
    }
   ],
   "source": [
    "test = pd.DataFrame()\n",
    "test['image'], test['label'] = createdataframe(TEST_DIR)"
   ]
  },
  {
   "cell_type": "code",
   "execution_count": 16,
   "id": "de04ed4b",
   "metadata": {},
   "outputs": [],
   "source": [
    "from tqdm.notebook import tqdm"
   ]
  },
  {
   "cell_type": "code",
   "execution_count": 17,
   "id": "d57606d8",
   "metadata": {},
   "outputs": [],
   "source": [
    "from keras.preprocessing.image import load_img, img_to_array\n",
    "from tqdm import tqdm\n",
    "import numpy as np\n",
    "\n",
    "def extract_features(images):\n",
    "    features = []\n",
    "    for image in tqdm(images):\n",
    "        img = load_img(image, color_mode='grayscale', target_size=(48, 48))\n",
    "        img = img_to_array(img)\n",
    "        features.append(img)\n",
    "    features = np.array(features)\n",
    "    features = features.reshape(len(features), 48, 48, 1)\n",
    "    return features"
   ]
  },
  {
   "cell_type": "code",
   "execution_count": 18,
   "id": "dd74081c",
   "metadata": {},
   "outputs": [
    {
     "name": "stderr",
     "output_type": "stream",
     "text": [
      "100%|████████████████████████████████████| 34342/34342 [01:57<00:00, 292.53it/s]\n"
     ]
    }
   ],
   "source": [
    "train_features = extract_features(train['image'])"
   ]
  },
  {
   "cell_type": "code",
   "execution_count": 19,
   "id": "6619b932",
   "metadata": {},
   "outputs": [
    {
     "name": "stderr",
     "output_type": "stream",
     "text": [
      "100%|██████████████████████████████████████| 8453/8453 [00:29<00:00, 287.12it/s]\n"
     ]
    }
   ],
   "source": [
    "test_features = extract_features(test['image'])"
   ]
  },
  {
   "cell_type": "code",
   "execution_count": 20,
   "id": "2e41dbb3",
   "metadata": {},
   "outputs": [],
   "source": [
    "x_train = train_features/255.0\n",
    "x_test = test_features/255.0"
   ]
  },
  {
   "cell_type": "code",
   "execution_count": 21,
   "id": "61b975c2",
   "metadata": {},
   "outputs": [],
   "source": [
    "from sklearn.preprocessing import LabelEncoder"
   ]
  },
  {
   "cell_type": "code",
   "execution_count": 25,
   "id": "91c032fd",
   "metadata": {},
   "outputs": [
    {
     "data": {
      "text/html": [
       "<style>#sk-container-id-1 {color: black;background-color: white;}#sk-container-id-1 pre{padding: 0;}#sk-container-id-1 div.sk-toggleable {background-color: white;}#sk-container-id-1 label.sk-toggleable__label {cursor: pointer;display: block;width: 100%;margin-bottom: 0;padding: 0.3em;box-sizing: border-box;text-align: center;}#sk-container-id-1 label.sk-toggleable__label-arrow:before {content: \"▸\";float: left;margin-right: 0.25em;color: #696969;}#sk-container-id-1 label.sk-toggleable__label-arrow:hover:before {color: black;}#sk-container-id-1 div.sk-estimator:hover label.sk-toggleable__label-arrow:before {color: black;}#sk-container-id-1 div.sk-toggleable__content {max-height: 0;max-width: 0;overflow: hidden;text-align: left;background-color: #f0f8ff;}#sk-container-id-1 div.sk-toggleable__content pre {margin: 0.2em;color: black;border-radius: 0.25em;background-color: #f0f8ff;}#sk-container-id-1 input.sk-toggleable__control:checked~div.sk-toggleable__content {max-height: 200px;max-width: 100%;overflow: auto;}#sk-container-id-1 input.sk-toggleable__control:checked~label.sk-toggleable__label-arrow:before {content: \"▾\";}#sk-container-id-1 div.sk-estimator input.sk-toggleable__control:checked~label.sk-toggleable__label {background-color: #d4ebff;}#sk-container-id-1 div.sk-label input.sk-toggleable__control:checked~label.sk-toggleable__label {background-color: #d4ebff;}#sk-container-id-1 input.sk-hidden--visually {border: 0;clip: rect(1px 1px 1px 1px);clip: rect(1px, 1px, 1px, 1px);height: 1px;margin: -1px;overflow: hidden;padding: 0;position: absolute;width: 1px;}#sk-container-id-1 div.sk-estimator {font-family: monospace;background-color: #f0f8ff;border: 1px dotted black;border-radius: 0.25em;box-sizing: border-box;margin-bottom: 0.5em;}#sk-container-id-1 div.sk-estimator:hover {background-color: #d4ebff;}#sk-container-id-1 div.sk-parallel-item::after {content: \"\";width: 100%;border-bottom: 1px solid gray;flex-grow: 1;}#sk-container-id-1 div.sk-label:hover label.sk-toggleable__label {background-color: #d4ebff;}#sk-container-id-1 div.sk-serial::before {content: \"\";position: absolute;border-left: 1px solid gray;box-sizing: border-box;top: 0;bottom: 0;left: 50%;z-index: 0;}#sk-container-id-1 div.sk-serial {display: flex;flex-direction: column;align-items: center;background-color: white;padding-right: 0.2em;padding-left: 0.2em;position: relative;}#sk-container-id-1 div.sk-item {position: relative;z-index: 1;}#sk-container-id-1 div.sk-parallel {display: flex;align-items: stretch;justify-content: center;background-color: white;position: relative;}#sk-container-id-1 div.sk-item::before, #sk-container-id-1 div.sk-parallel-item::before {content: \"\";position: absolute;border-left: 1px solid gray;box-sizing: border-box;top: 0;bottom: 0;left: 50%;z-index: -1;}#sk-container-id-1 div.sk-parallel-item {display: flex;flex-direction: column;z-index: 1;position: relative;background-color: white;}#sk-container-id-1 div.sk-parallel-item:first-child::after {align-self: flex-end;width: 50%;}#sk-container-id-1 div.sk-parallel-item:last-child::after {align-self: flex-start;width: 50%;}#sk-container-id-1 div.sk-parallel-item:only-child::after {width: 0;}#sk-container-id-1 div.sk-dashed-wrapped {border: 1px dashed gray;margin: 0 0.4em 0.5em 0.4em;box-sizing: border-box;padding-bottom: 0.4em;background-color: white;}#sk-container-id-1 div.sk-label label {font-family: monospace;font-weight: bold;display: inline-block;line-height: 1.2em;}#sk-container-id-1 div.sk-label-container {text-align: center;}#sk-container-id-1 div.sk-container {/* jupyter's `normalize.less` sets `[hidden] { display: none; }` but bootstrap.min.css set `[hidden] { display: none !important; }` so we also need the `!important` here to be able to override the default hidden behavior on the sphinx rendered scikit-learn.org. See: https://github.com/scikit-learn/scikit-learn/issues/21755 */display: inline-block !important;position: relative;}#sk-container-id-1 div.sk-text-repr-fallback {display: none;}</style><div id=\"sk-container-id-1\" class=\"sk-top-container\"><div class=\"sk-text-repr-fallback\"><pre>LabelEncoder()</pre><b>In a Jupyter environment, please rerun this cell to show the HTML representation or trust the notebook. <br />On GitHub, the HTML representation is unable to render, please try loading this page with nbviewer.org.</b></div><div class=\"sk-container\" hidden><div class=\"sk-item\"><div class=\"sk-estimator sk-toggleable\"><input class=\"sk-toggleable__control sk-hidden--visually\" id=\"sk-estimator-id-1\" type=\"checkbox\" checked><label for=\"sk-estimator-id-1\" class=\"sk-toggleable__label sk-toggleable__label-arrow\">LabelEncoder</label><div class=\"sk-toggleable__content\"><pre>LabelEncoder()</pre></div></div></div></div></div>"
      ],
      "text/plain": [
       "LabelEncoder()"
      ]
     },
     "execution_count": 25,
     "metadata": {},
     "output_type": "execute_result"
    }
   ],
   "source": [
    "le = LabelEncoder()\n",
    "le.fit(train['label'])"
   ]
  },
  {
   "cell_type": "code",
   "execution_count": 26,
   "id": "4a99b723",
   "metadata": {},
   "outputs": [],
   "source": [
    "y_train = le.transform(train['label'])\n",
    "#y_test = le.transform(test['label'])"
   ]
  },
  {
   "cell_type": "code",
   "execution_count": 27,
   "id": "3767fb63",
   "metadata": {},
   "outputs": [
    {
     "name": "stdout",
     "output_type": "stream",
     "text": [
      "X_train Shape: (27473, 48, 48, 1)\n",
      "X_test Shape: (6869, 48, 48, 1)\n",
      "y_train Shape: (27473,)\n",
      "y_test Shape: (6869,)\n"
     ]
    }
   ],
   "source": [
    "# Split the data into training and testing sets\n",
    "X = x_train\n",
    "y = y_train\n",
    "x_train, x_test, y_train, y_test = train_test_split(X, y, test_size=0.2, random_state=42)\n",
    "\n",
    "# Print the shapes to verify\n",
    "print(\"X_train Shape:\", x_train.shape)\n",
    "print(\"X_test Shape:\", x_test.shape)\n",
    "print(\"y_train Shape:\", y_train.shape)\n",
    "print(\"y_test Shape:\", y_test.shape)\n",
    "\n",
    "# Use LabelEncoder for encoding the labels\n",
    "label_encoder = LabelEncoder()\n",
    "y_train_encoded = label_encoder.fit_transform(y_train)\n",
    "y_test_encoded = label_encoder.transform(y_test)\n"
   ]
  },
  {
   "cell_type": "code",
   "execution_count": 32,
   "id": "de128747",
   "metadata": {},
   "outputs": [
    {
     "name": "stdout",
     "output_type": "stream",
     "text": [
      "Epoch 1/30\n",
      "687/687 [==============================] - 4s 6ms/step - loss: -6687537.0000 - accuracy: 0.1137 - val_loss: -27022494.0000 - val_accuracy: 0.1172\n",
      "Epoch 2/30\n",
      "687/687 [==============================] - 4s 6ms/step - loss: -95919248.0000 - accuracy: 0.1137 - val_loss: -197376848.0000 - val_accuracy: 0.1172\n",
      "Epoch 3/30\n",
      "687/687 [==============================] - 4s 6ms/step - loss: -372557792.0000 - accuracy: 0.1137 - val_loss: -590070464.0000 - val_accuracy: 0.1172\n",
      "Epoch 4/30\n",
      "687/687 [==============================] - 4s 6ms/step - loss: -894390016.0000 - accuracy: 0.1137 - val_loss: -1246860160.0000 - val_accuracy: 0.1172\n",
      "Epoch 5/30\n",
      "687/687 [==============================] - 4s 6ms/step - loss: -1694927616.0000 - accuracy: 0.1137 - val_loss: -2194767360.0000 - val_accuracy: 0.1172\n",
      "Epoch 6/30\n",
      "687/687 [==============================] - 5s 7ms/step - loss: -2797867264.0000 - accuracy: 0.1137 - val_loss: -3457641984.0000 - val_accuracy: 0.1172\n",
      "Epoch 7/30\n",
      "687/687 [==============================] - 5s 7ms/step - loss: -4227392768.0000 - accuracy: 0.1137 - val_loss: -5056352256.0000 - val_accuracy: 0.1172\n",
      "Epoch 8/30\n",
      "687/687 [==============================] - 5s 7ms/step - loss: -5999669760.0000 - accuracy: 0.1137 - val_loss: -7009440768.0000 - val_accuracy: 0.1172\n",
      "Epoch 9/30\n",
      "687/687 [==============================] - 4s 6ms/step - loss: -8142836224.0000 - accuracy: 0.1137 - val_loss: -9345054720.0000 - val_accuracy: 0.1172\n",
      "Epoch 10/30\n",
      "687/687 [==============================] - 4s 6ms/step - loss: -10673323008.0000 - accuracy: 0.1137 - val_loss: -12076521472.0000 - val_accuracy: 0.1172\n",
      "Epoch 11/30\n",
      "687/687 [==============================] - 4s 6ms/step - loss: -13621532672.0000 - accuracy: 0.1137 - val_loss: -15242489856.0000 - val_accuracy: 0.1172\n",
      "Epoch 12/30\n",
      "687/687 [==============================] - 5s 7ms/step - loss: -17003374592.0000 - accuracy: 0.1137 - val_loss: -18849484800.0000 - val_accuracy: 0.1172\n",
      "Epoch 13/30\n",
      "687/687 [==============================] - 5s 7ms/step - loss: -20844580864.0000 - accuracy: 0.1137 - val_loss: -22933211136.0000 - val_accuracy: 0.1172\n",
      "Epoch 14/30\n",
      "687/687 [==============================] - 5s 8ms/step - loss: -25172948992.0000 - accuracy: 0.1137 - val_loss: -27507013632.0000 - val_accuracy: 0.1172\n",
      "Epoch 15/30\n",
      "687/687 [==============================] - 5s 8ms/step - loss: -30001971200.0000 - accuracy: 0.1137 - val_loss: -32594814976.0000 - val_accuracy: 0.1172\n",
      "Epoch 16/30\n",
      "687/687 [==============================] - 4s 6ms/step - loss: -35364327424.0000 - accuracy: 0.1137 - val_loss: -38234529792.0000 - val_accuracy: 0.1172\n",
      "Epoch 17/30\n",
      "687/687 [==============================] - 4s 6ms/step - loss: -41284022272.0000 - accuracy: 0.1137 - val_loss: -44443979776.0000 - val_accuracy: 0.1172\n",
      "Epoch 18/30\n",
      "687/687 [==============================] - 4s 6ms/step - loss: -47782440960.0000 - accuracy: 0.1137 - val_loss: -51232419840.0000 - val_accuracy: 0.1172\n",
      "Epoch 19/30\n",
      "687/687 [==============================] - 4s 6ms/step - loss: -54878896128.0000 - accuracy: 0.1137 - val_loss: -58639339520.0000 - val_accuracy: 0.1172\n",
      "Epoch 20/30\n",
      "687/687 [==============================] - 4s 6ms/step - loss: -62601154560.0000 - accuracy: 0.1137 - val_loss: -66682073088.0000 - val_accuracy: 0.1172\n",
      "Epoch 21/30\n",
      "687/687 [==============================] - 4s 6ms/step - loss: -70969933824.0000 - accuracy: 0.1137 - val_loss: -75386699776.0000 - val_accuracy: 0.1172\n",
      "Epoch 22/30\n",
      "687/687 [==============================] - 4s 6ms/step - loss: -80006004736.0000 - accuracy: 0.1137 - val_loss: -84762533888.0000 - val_accuracy: 0.1172\n",
      "Epoch 23/30\n",
      "687/687 [==============================] - 4s 6ms/step - loss: -89730260992.0000 - accuracy: 0.1137 - val_loss: -94838013952.0000 - val_accuracy: 0.1172\n",
      "Epoch 24/30\n",
      "687/687 [==============================] - 5s 7ms/step - loss: -100172472320.0000 - accuracy: 0.1137 - val_loss: -105638535168.0000 - val_accuracy: 0.1172\n",
      "Epoch 25/30\n",
      "687/687 [==============================] - 5s 7ms/step - loss: -111334621184.0000 - accuracy: 0.1137 - val_loss: -117179760640.0000 - val_accuracy: 0.1172\n",
      "Epoch 26/30\n",
      "687/687 [==============================] - 4s 6ms/step - loss: -123261706240.0000 - accuracy: 0.1137 - val_loss: -129497546752.0000 - val_accuracy: 0.1172\n",
      "Epoch 27/30\n",
      "687/687 [==============================] - 4s 7ms/step - loss: -135978622976.0000 - accuracy: 0.1137 - val_loss: -142619951104.0000 - val_accuracy: 0.1172\n",
      "Epoch 28/30\n",
      "687/687 [==============================] - 4s 6ms/step - loss: -149505720320.0000 - accuracy: 0.1137 - val_loss: -156552003584.0000 - val_accuracy: 0.1172\n",
      "Epoch 29/30\n",
      "687/687 [==============================] - 5s 7ms/step - loss: -163875454976.0000 - accuracy: 0.1137 - val_loss: -171350933504.0000 - val_accuracy: 0.1172\n",
      "Epoch 30/30\n",
      "687/687 [==============================] - 5s 7ms/step - loss: -179075596288.0000 - accuracy: 0.1137 - val_loss: -186966999040.0000 - val_accuracy: 0.1172\n",
      "215/215 [==============================] - 0s 2ms/step - loss: -189001678848.0000 - accuracy: 0.1162\n",
      "Test Accuracy: 0.11617411673069\n"
     ]
    }
   ],
   "source": [
    "from tensorflow.keras.models import Sequential\n",
    "from tensorflow.keras.layers import Conv2D, MaxPooling2D, Flatten, Dense\n",
    "\n",
    "# Define a simple neural network model\n",
    "model = Sequential()\n",
    "model.add(Conv2D(32, (3, 3), activation='relu', input_shape=(48, 48, 1)))\n",
    "model.add(MaxPooling2D((2, 2)))\n",
    "model.add(Flatten())\n",
    "model.add(Dense(64, activation='relu'))\n",
    "model.add(Dense(1, activation='sigmoid'))  # Assuming binary classification, adjust for your task\n",
    "\n",
    "# Compile the model\n",
    "model.compile(optimizer='adam', loss='binary_crossentropy', metrics=['accuracy'])\n",
    "\n",
    "# Train the model\n",
    "model.fit(x_train, y_train, epochs=30, batch_size=32, validation_split=0.2)\n",
    "\n",
    "# Evaluate the model on the test data\n",
    "accuracy = model.evaluate(x_test, y_test)[1]\n",
    "print(f'Test Accuracy: {accuracy}')"
   ]
  },
  {
   "cell_type": "code",
   "execution_count": 33,
   "id": "2eec6928",
   "metadata": {},
   "outputs": [
    {
     "name": "stdout",
     "output_type": "stream",
     "text": [
      "Model: \"sequential_4\"\n",
      "_________________________________________________________________\n",
      " Layer (type)                Output Shape              Param #   \n",
      "=================================================================\n",
      " conv2d_4 (Conv2D)           (None, 46, 46, 32)        320       \n",
      "                                                                 \n",
      " max_pooling2d_4 (MaxPoolin  (None, 23, 23, 32)        0         \n",
      " g2D)                                                            \n",
      "                                                                 \n",
      " flatten_4 (Flatten)         (None, 16928)             0         \n",
      "                                                                 \n",
      " dense_8 (Dense)             (None, 64)                1083456   \n",
      "                                                                 \n",
      " dense_9 (Dense)             (None, 1)                 65        \n",
      "                                                                 \n",
      "=================================================================\n",
      "Total params: 1083841 (4.13 MB)\n",
      "Trainable params: 1083841 (4.13 MB)\n",
      "Non-trainable params: 0 (0.00 Byte)\n",
      "_________________________________________________________________\n"
     ]
    }
   ],
   "source": [
    "\n",
    "model.summary()"
   ]
  }
 ],
 "metadata": {
  "kernelspec": {
   "display_name": "Python 3 (ipykernel)",
   "language": "python",
   "name": "python3"
  },
  "language_info": {
   "codemirror_mode": {
    "name": "ipython",
    "version": 3
   },
   "file_extension": ".py",
   "mimetype": "text/x-python",
   "name": "python",
   "nbconvert_exporter": "python",
   "pygments_lexer": "ipython3",
   "version": "3.10.9"
  }
 },
 "nbformat": 4,
 "nbformat_minor": 5
}
